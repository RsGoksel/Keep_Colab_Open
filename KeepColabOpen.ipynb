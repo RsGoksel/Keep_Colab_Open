{
 "cells": [
  {
   "cell_type": "code",
   "execution_count": null,
   "id": "dc356272-36f9-44c2-ba92-84a63ce15a7d",
   "metadata": {},
   "outputs": [],
   "source": [
    "!pip install mss pydirectinput pytesseract\n",
    "#!pip install opencv-python matplotlib"
   ]
  },
  {
   "cell_type": "code",
   "execution_count": null,
   "id": "464c648c-33bb-4580-ae68-8392bcb2f7b9",
   "metadata": {},
   "outputs": [],
   "source": [
    "from mss import mss \n",
    "import pydirectinput\n",
    "import cv2\n",
    "import numpy as np\n",
    "import pytesseract\n",
    "\n",
    "from matplotlib import pyplot as plt\n",
    "import time\n",
    "\n",
    "pytesseract.pytesseract.tesseract_cmd = \"C:\\\\Program Files\\\\Tesseract-OCR\\\\tesseract.exe\" #Path of tesseract "
   ]
  },
  {
   "cell_type": "code",
   "execution_count": null,
   "id": "04e2ca2c-5a93-484c-afbd-6fdb491f6902",
   "metadata": {},
   "outputs": [],
   "source": [
    "class Colab():\n",
    "    \n",
    "    def __init__(self):\n",
    "        \n",
    "        super().__init__()\n",
    "         \n",
    "        self.cap = mss()\n",
    "        self.window_loc = {'top':400, 'left':650, 'width':300, 'height':60}\n",
    "        self.done_loc = {'top':430, 'left':660, 'width':250, 'height':60}\n",
    "        \n",
    "        \n",
    "    def step(self):\n",
    "        \n",
    "        done, done_cap = self.get_done()\n",
    "        new_obs = self.get_obs()\n",
    "        \n",
    "        return new_obs, done\n",
    "                                                                                  \n",
    "    \n",
    "    def render(self):\n",
    "        cv2.imshow('Screen',np.array(self.cap.grab(self.window_loc))[:,:,:3])\n",
    "        \n",
    "        if cv2.waitKey(1) & 0xFF == ord('q'):\n",
    "            self.close()\n",
    "    \n",
    "    def reset(self):\n",
    "        time.sleep(1)\n",
    "        return self.get_obs()\n",
    "        \n",
    "    def close(self):\n",
    "        cv2.destroyAllWindows()\n",
    "    \n",
    "    def get_obs(self):\n",
    "        raw = np.array(self.cap.grab(self.window_loc))[:,:,:3] \n",
    "        \n",
    "        gray = cv2.cvtColor(raw,cv2.COLOR_BGR2GRAY )\n",
    "        \n",
    "        resized = cv2.resize(gray, (100,83))\n",
    "        \n",
    "        channel = np.reshape(resized, (1,83,100))\n",
    "        \n",
    "        return channel\n",
    "                            \n",
    "    def get_done(self):\n",
    "        done_cap = np.array(self.cap.grab(self.done_loc))[:,:,:3]\n",
    "        \n",
    "        strings = ['Hala','Orada', 'MISINIZ']\n",
    "        #strings = ['Are','you', 'still',\"there\"] #For english\n",
    "        \n",
    "        done = False\n",
    "        res = pytesseract.image_to_string(done_cap)[:4]\n",
    "        \n",
    "        if res in strings:\n",
    "            done = True\n",
    "            \n",
    "        return done, done_cap   "
   ]
  },
  {
   "cell_type": "code",
   "execution_count": null,
   "id": "980a97b4-98c6-4e3f-8a36-af9c89d51aae",
   "metadata": {},
   "outputs": [],
   "source": [
    "env = Colab()\n",
    "\n",
    "done, done_cap = env.get_done()\n",
    "plt.imshow(done_cap)\n",
    "\n",
    "for episode in range(10):\n",
    "    obs = env.reset()\n",
    "    done = False\n",
    "    \n",
    "\n",
    "    while not done:\n",
    "        obs, done = env.step()\n",
    "        if done:\n",
    "            pydirectinput.click(x=850,y=620) #Exact location of \"are you still there\" window\n",
    "                                            #\"Hala ordamısınız\" penceresinin lokasyonu"
   ]
  },
  {
   "cell_type": "code",
   "execution_count": null,
   "id": "4c6ed3a1-b29c-49bf-95bf-1cedc1a68aa2",
   "metadata": {},
   "outputs": [],
   "source": []
  },
  {
   "cell_type": "code",
   "execution_count": null,
   "id": "5e8b81c0-9484-4ca7-ad3b-ebc3175c2f36",
   "metadata": {},
   "outputs": [],
   "source": []
  }
 ],
 "metadata": {
  "kernelspec": {
   "display_name": "tf",
   "language": "python",
   "name": "tf"
  },
  "language_info": {
   "codemirror_mode": {
    "name": "ipython",
    "version": 3
   },
   "file_extension": ".py",
   "mimetype": "text/x-python",
   "name": "python",
   "nbconvert_exporter": "python",
   "pygments_lexer": "ipython3",
   "version": "3.9.0"
  }
 },
 "nbformat": 4,
 "nbformat_minor": 5
}
